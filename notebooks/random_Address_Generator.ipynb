{
 "cells": [
  {
   "cell_type": "code",
   "execution_count": 2,
   "metadata": {},
   "outputs": [],
   "source": [
    "import math\n",
    "import random\n",
    "import sys\n",
    "\n",
    "sys.path.append('../')\n",
    "\n",
    "from utilities.utils import *\n",
    "from addressPoint import AddressPoint\n",
    "\n",
    "from geopy.geocoders import Nominatim\n",
    "import folium"
   ]
  },
  {
   "cell_type": "code",
   "execution_count": 3,
   "metadata": {},
   "outputs": [],
   "source": [
    "target_address = '9 Boulevard Decouz, 74000 Annecy France'\n",
    "central_point = AddressPoint(target_address)"
   ]
  },
  {
   "cell_type": "code",
   "execution_count": 4,
   "metadata": {},
   "outputs": [],
   "source": [
    "def simulate_points(num_points, center_point, max_radius):\n",
    "    geolocator = Nominatim(user_agent=\"covoiturage\")\n",
    "    min_long = 6\n",
    "    max_long = 7\n",
    "    min_lat =45\n",
    "    max_lat = 46\n",
    "    long_lat_points={}\n",
    "    random.seed(42316)\n",
    "    countall = 0\n",
    "\n",
    "    while len(long_lat_points) < num_points:\n",
    "        keep = True\n",
    "        rho, theta = random.uniform(0, max_radius), random.uniform(-math.pi, math.pi)\n",
    "        x_in = rho * math.cos(theta)\n",
    "        y_in = rho * math.sin(theta)\n",
    "        lat_in, long_in = latitude_longitude_from_cartesians(x_in, y_in, center_point, center_point.latitude)\n",
    "        strAddress_out = geolocator.reverse(query=(lat_in, long_in))\n",
    "        if strAddress_out is not None:\n",
    "            strAddressList = str(strAddress_out).split(',')\n",
    "            char1 = strAddressList[0][0]\n",
    "            strAddress_simple = '{}, {}'.format(strAddressList[0], strAddressList[-2])\n",
    "            if not(char1.isnumeric()):\n",
    "                strAddress_simple = '1 {}'.format(strAddress_simple)\n",
    "            try:\n",
    "                lat, long = get_latitude_longitude(strAddress_simple)\n",
    "                if (lat, long) == (None, None):\n",
    "                    keep = False\n",
    "                else:\n",
    "                    if long<min_long or long>max_long or lat<min_lat or lat>max_lat:\n",
    "                        keep = False\n",
    "            except:\n",
    "                print('error for address: {}'.format(strAddress_simple))\n",
    "                keep = False\n",
    "            if keep:\n",
    "                long_lat_points[strAddress_simple] = (lat, long)                \n",
    "        countall+=1\n",
    "        print('global count: {}, valid count: {}, @: {}'.format(countall, len(long_lat_points), strAddress_simple))\n",
    "    return long_lat_points"
   ]
  },
  {
   "cell_type": "code",
   "execution_count": null,
   "metadata": {},
   "outputs": [],
   "source": [
    "address_points = simulate_points(100, central_point, 10)"
   ]
  },
  {
   "cell_type": "code",
   "execution_count": null,
   "metadata": {},
   "outputs": [],
   "source": [
    "full_map = folium.Map(location=[central_point.latitude, central_point.longitude], zoom_start=12)\n",
    "folium.Marker([central_point.latitude, central_point.longitude]).add_to(full_map)\n",
    "for p in address_points.values():\n",
    "    folium.Circle(radius = 10, location=[p[0], p[1]], color='red', fill=True).add_to(full_map)\n",
    "full_map"
   ]
  },
  {
   "cell_type": "code",
   "execution_count": null,
   "metadata": {},
   "outputs": [],
   "source": [
    "with open('./data/addresses_test.csv', 'w') as f:\n",
    "    f.write('first_name;last_name;address\\n')\n",
    "    for k in address_points:\n",
    "        f.write('x;x;{}\\n'.format(k))"
   ]
  }
 ],
 "metadata": {
  "kernelspec": {
   "display_name": "covoiturage",
   "language": "python",
   "name": "covoiturage"
  },
  "language_info": {
   "codemirror_mode": {
    "name": "ipython",
    "version": 3
   },
   "file_extension": ".py",
   "mimetype": "text/x-python",
   "name": "python",
   "nbconvert_exporter": "python",
   "pygments_lexer": "ipython3",
   "version": "3.8.6"
  }
 },
 "nbformat": 4,
 "nbformat_minor": 4
}
