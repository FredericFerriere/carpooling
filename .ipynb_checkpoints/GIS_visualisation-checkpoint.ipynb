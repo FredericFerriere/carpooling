{
 "cells": [
  {
   "cell_type": "code",
   "execution_count": 1,
   "metadata": {},
   "outputs": [],
   "source": [
    "import matplotlib.pyplot as plt\n",
    "\n",
    "import osmnx as ox\n",
    "import folium\n",
    "\n",
    "from geopy.geocoders import Nominatim\n",
    "\n",
    "from utilities.utils import *\n",
    "from optimiser import *"
   ]
  },
  {
   "cell_type": "code",
   "execution_count": 2,
   "metadata": {},
   "outputs": [],
   "source": [
    "address_file_path = './data/addresses.csv'"
   ]
  },
  {
   "cell_type": "code",
   "execution_count": 3,
   "metadata": {},
   "outputs": [],
   "source": [
    "employee_data = get_employee_data(address_file_path)\n",
    "employee_addresses = [emp[2] for emp in employee_data]"
   ]
  },
  {
   "cell_type": "code",
   "execution_count": 9,
   "metadata": {},
   "outputs": [],
   "source": [
    "geolocator = Nominatim(user_agent=\"covoiturage\")"
   ]
  },
  {
   "cell_type": "code",
   "execution_count": 4,
   "metadata": {},
   "outputs": [],
   "source": [
    "target_address = '9 Boulevard Decouz, 74000 Annecy France'"
   ]
  },
  {
   "cell_type": "code",
   "execution_count": 10,
   "metadata": {},
   "outputs": [],
   "source": [
    "target_location = geolocator.geocode(target_address)"
   ]
  },
  {
   "cell_type": "code",
   "execution_count": 11,
   "metadata": {},
   "outputs": [],
   "source": [
    "employee_locations = [geolocator.geocode(el) for el in employee_addresses]"
   ]
  },
  {
   "cell_type": "code",
   "execution_count": null,
   "metadata": {},
   "outputs": [],
   "source": [
    "full_map = folium.Map(location=[target_location.latitude, target_location.longitude], zoom_start=11)\n",
    "folium.Marker([target_location.latitude, target_location.longitude]).add_to(full_map)\n",
    "for cur_loc in employee_locations:\n",
    "    folium.Circle(radius = 10, location=[cur_loc.latitude, cur_loc.longitude], color='red', fill=True).add_to(full_map)\n",
    "full_map"
   ]
  },
  {
   "cell_type": "code",
   "execution_count": 12,
   "metadata": {},
   "outputs": [
    {
     "ename": "AttributeError",
     "evalue": "'list' object has no attribute 'keys'",
     "output_type": "error",
     "traceback": [
      "\u001b[1;31m---------------------------------------------------------------------------\u001b[0m",
      "\u001b[1;31mAttributeError\u001b[0m                            Traceback (most recent call last)",
      "\u001b[1;32m<ipython-input-12-5054cae05ac9>\u001b[0m in \u001b[0;36m<module>\u001b[1;34m\u001b[0m\n\u001b[1;32m----> 1\u001b[1;33m \u001b[0mdist_matrix\u001b[0m \u001b[1;33m=\u001b[0m \u001b[0mget_employees_distance_matrix\u001b[0m\u001b[1;33m(\u001b[0m\u001b[0memployee_locations\u001b[0m\u001b[1;33m)\u001b[0m\u001b[1;33m\u001b[0m\u001b[1;33m\u001b[0m\u001b[0m\n\u001b[0m\u001b[0;32m      2\u001b[0m \u001b[0mdist_target\u001b[0m \u001b[1;33m=\u001b[0m \u001b[0mget_employees_distance_to_target\u001b[0m\u001b[1;33m(\u001b[0m\u001b[0memployee_locations\u001b[0m\u001b[1;33m,\u001b[0m \u001b[0mtarget_location\u001b[0m\u001b[1;33m)\u001b[0m\u001b[1;33m\u001b[0m\u001b[1;33m\u001b[0m\u001b[0m\n",
      "\u001b[1;32m~\\Github\\covoiturage\\utilities\\utils.py\u001b[0m in \u001b[0;36mget_employees_distance_matrix\u001b[1;34m(employee_points)\u001b[0m\n\u001b[0;32m     43\u001b[0m     \u001b[1;33m:\u001b[0m\u001b[1;32mreturn\u001b[0m\u001b[1;33m:\u001b[0m\u001b[1;33m\u001b[0m\u001b[1;33m\u001b[0m\u001b[0m\n\u001b[0;32m     44\u001b[0m     '''\n\u001b[1;32m---> 45\u001b[1;33m     \u001b[0madds\u001b[0m \u001b[1;33m=\u001b[0m \u001b[0mlist\u001b[0m\u001b[1;33m(\u001b[0m\u001b[0memployee_points\u001b[0m\u001b[1;33m.\u001b[0m\u001b[0mkeys\u001b[0m\u001b[1;33m(\u001b[0m\u001b[1;33m)\u001b[0m\u001b[1;33m)\u001b[0m\u001b[1;33m\u001b[0m\u001b[1;33m\u001b[0m\u001b[0m\n\u001b[0m\u001b[0;32m     46\u001b[0m     \u001b[0mnum_emp\u001b[0m \u001b[1;33m=\u001b[0m \u001b[0mlen\u001b[0m\u001b[1;33m(\u001b[0m\u001b[0madds\u001b[0m\u001b[1;33m)\u001b[0m\u001b[1;33m\u001b[0m\u001b[1;33m\u001b[0m\u001b[0m\n\u001b[0;32m     47\u001b[0m     \u001b[0mdist\u001b[0m \u001b[1;33m=\u001b[0m \u001b[0mnp\u001b[0m\u001b[1;33m.\u001b[0m\u001b[0mndarray\u001b[0m\u001b[1;33m(\u001b[0m\u001b[1;33m(\u001b[0m\u001b[0mnum_emp\u001b[0m\u001b[1;33m,\u001b[0m \u001b[0mnum_emp\u001b[0m\u001b[1;33m)\u001b[0m\u001b[1;33m)\u001b[0m\u001b[1;33m\u001b[0m\u001b[1;33m\u001b[0m\u001b[0m\n",
      "\u001b[1;31mAttributeError\u001b[0m: 'list' object has no attribute 'keys'"
     ]
    }
   ],
   "source": [
    "dist_matrix = get_employees_distance_matrix(employee_locations)\n",
    "dist_target = get_employees_distance_to_target(employee_locations, target_location)"
   ]
  },
  {
   "cell_type": "code",
   "execution_count": null,
   "metadata": {},
   "outputs": [],
   "source": [
    "worst_distance = sum(dist_target)\n",
    "print('worst distance: {:.2f}'.format(worst_distance))"
   ]
  },
  {
   "cell_type": "markdown",
   "metadata": {},
   "source": [
    "# We'll also store point coordinates based on 2d projection from GPS coordinates\n",
    "# required for clustering"
   ]
  },
  {
   "cell_type": "code",
   "execution_count": null,
   "metadata": {},
   "outputs": [],
   "source": [
    "target_coord = cartesian_coordinates(target_location, target_location, target_location.latitude)\n",
    "employee_coords = [cartesian_coordinates(loc, target_location, target_location.latitude) for loc in employee_locations]"
   ]
  },
  {
   "cell_type": "code",
   "execution_count": null,
   "metadata": {},
   "outputs": [],
   "source": [
    "plt.scatter(target_coord[0], target_coord[1], color='blue')\n",
    "plt.scatter([emp_coord[0] for emp_coord in employee_coords], [emp_coord[1] for emp_coord in employee_coords], color='red')"
   ]
  },
  {
   "cell_type": "code",
   "execution_count": null,
   "metadata": {},
   "outputs": [],
   "source": []
  },
  {
   "cell_type": "code",
   "execution_count": null,
   "metadata": {},
   "outputs": [],
   "source": []
  },
  {
   "cell_type": "code",
   "execution_count": 5,
   "metadata": {},
   "outputs": [],
   "source": [
    "max_pass = 4"
   ]
  },
  {
   "cell_type": "markdown",
   "metadata": {},
   "source": [
    "# result only"
   ]
  },
  {
   "cell_type": "code",
   "execution_count": 16,
   "metadata": {},
   "outputs": [
    {
     "data": {
      "text/plain": [
       "[['64 route de Menthon 74290 Veyrier du lac',\n",
       "  '353 route des provinces 74370 villaz'],\n",
       " ['294 route de vernod 74330 Poisy',\n",
       "  '36 rue du muraillon 74600 Seynod',\n",
       "  '15 rue pasteur 74960 Cran gevrier',\n",
       "  '5 route de Montava 74370 Argonay']]"
      ]
     },
     "execution_count": 16,
     "metadata": {},
     "output_type": "execute_result"
    }
   ],
   "source": [
    "res = global_optimise(employee_addresses, target_address, max_pass)\n",
    "res"
   ]
  },
  {
   "cell_type": "markdown",
   "metadata": {},
   "source": [
    "# step by step"
   ]
  },
  {
   "cell_type": "code",
   "execution_count": 13,
   "metadata": {},
   "outputs": [
    {
     "data": {
      "text/plain": [
       "[['64 route de Menthon 74290 Veyrier du lac',\n",
       "  '353 route des provinces 74370 villaz'],\n",
       " ['294 route de vernod 74330 Poisy',\n",
       "  '36 rue du muraillon 74600 Seynod',\n",
       "  '15 rue pasteur 74960 Cran gevrier',\n",
       "  '5 route de Montava 74370 Argonay']]"
      ]
     },
     "execution_count": 13,
     "metadata": {},
     "output_type": "execute_result"
    }
   ],
   "source": [
    "emp_points = {emp_address: AddressPoint(emp_address) for emp_address in employee_addresses}\n",
    "tgt_point = AddressPoint(target_address)\n",
    "emp_coords = {k: cartesian_coordinates(p, tgt_point, tgt_point.latitude)\n",
    "                  for k, p in emp_points.items()}\n",
    "groups = group_employees(emp_coords, max_pass)\n",
    "res = []\n",
    "for g in groups:\n",
    "    opt_g = optimise_group(g)\n",
    "    for sub_g in opt_g:\n",
    "        res.append(sub_g)\n",
    "res"
   ]
  },
  {
   "cell_type": "code",
   "execution_count": null,
   "metadata": {},
   "outputs": [],
   "source": [
    "plt.scatter([0], [0])\n",
    "for g in res:\n",
    "    plt.scatter([emp_coords[add][0] for add in g], [emp_coords[add][1] for add in g])"
   ]
  },
  {
   "cell_type": "code",
   "execution_count": 14,
   "metadata": {},
   "outputs": [
    {
     "data": {
      "text/plain": [
       "{'294 route de vernod 74330 Poisy': {'294 route de vernod 74330 Poisy': 0.0,\n",
       "  '36 rue du muraillon 74600 Seynod': 7.3813,\n",
       "  '15 rue pasteur 74960 Cran gevrier': 4.2812,\n",
       "  '5 route de Montava 74370 Argonay': 6.4047,\n",
       "  '64 route de Menthon 74290 Veyrier du lac': 12.3095,\n",
       "  '353 route des provinces 74370 villaz': 11.0485},\n",
       " '36 rue du muraillon 74600 Seynod': {'294 route de vernod 74330 Poisy': 7.3813,\n",
       "  '36 rue du muraillon 74600 Seynod': 0.0,\n",
       "  '15 rue pasteur 74960 Cran gevrier': 4.397399999999999,\n",
       "  '5 route de Montava 74370 Argonay': 10.2746,\n",
       "  '64 route de Menthon 74290 Veyrier du lac': 11.9498,\n",
       "  '353 route des provinces 74370 villaz': 12.6825},\n",
       " '15 rue pasteur 74960 Cran gevrier': {'294 route de vernod 74330 Poisy': 4.2812,\n",
       "  '36 rue du muraillon 74600 Seynod': 4.397399999999999,\n",
       "  '15 rue pasteur 74960 Cran gevrier': 0.0,\n",
       "  '5 route de Montava 74370 Argonay': 5.1575,\n",
       "  '64 route de Menthon 74290 Veyrier du lac': 8.1599,\n",
       "  '353 route des provinces 74370 villaz': 8.6806},\n",
       " '5 route de Montava 74370 Argonay': {'294 route de vernod 74330 Poisy': 6.4047,\n",
       "  '36 rue du muraillon 74600 Seynod': 10.2746,\n",
       "  '15 rue pasteur 74960 Cran gevrier': 5.1575,\n",
       "  '5 route de Montava 74370 Argonay': 0.0,\n",
       "  '64 route de Menthon 74290 Veyrier du lac': 11.410200000000001,\n",
       "  '353 route des provinces 74370 villaz': 5.738},\n",
       " '64 route de Menthon 74290 Veyrier du lac': {'294 route de vernod 74330 Poisy': 12.3095,\n",
       "  '36 rue du muraillon 74600 Seynod': 11.9498,\n",
       "  '15 rue pasteur 74960 Cran gevrier': 8.1599,\n",
       "  '5 route de Montava 74370 Argonay': 11.410200000000001,\n",
       "  '64 route de Menthon 74290 Veyrier du lac': 0.0,\n",
       "  '353 route des provinces 74370 villaz': 12.932799999999999},\n",
       " '353 route des provinces 74370 villaz': {'294 route de vernod 74330 Poisy': 11.0485,\n",
       "  '36 rue du muraillon 74600 Seynod': 12.6825,\n",
       "  '15 rue pasteur 74960 Cran gevrier': 8.6806,\n",
       "  '5 route de Montava 74370 Argonay': 5.738,\n",
       "  '64 route de Menthon 74290 Veyrier du lac': 12.932799999999999,\n",
       "  '353 route des provinces 74370 villaz': 0.0}}"
      ]
     },
     "execution_count": 14,
     "metadata": {},
     "output_type": "execute_result"
    }
   ],
   "source": [
    "emp_dist_mat = get_employees_distance_matrix(emp_points)\n",
    "emp_dist_mat"
   ]
  },
  {
   "cell_type": "code",
   "execution_count": 15,
   "metadata": {},
   "outputs": [
    {
     "data": {
      "text/plain": [
       "{'294 route de vernod 74330 Poisy': 4.9178999999999995,\n",
       " '36 rue du muraillon 74600 Seynod': 4.5711,\n",
       " '15 rue pasteur 74960 Cran gevrier': 1.2626,\n",
       " '5 route de Montava 74370 Argonay': 6.003100000000001,\n",
       " '64 route de Menthon 74290 Veyrier du lac': 8.1865,\n",
       " '353 route des provinces 74370 villaz': 9.8335}"
      ]
     },
     "execution_count": 15,
     "metadata": {},
     "output_type": "execute_result"
    }
   ],
   "source": [
    "tgt_dist_mat = get_employees_distance_to_target(emp_points, tgt_point)\n",
    "tgt_dist_mat"
   ]
  },
  {
   "cell_type": "code",
   "execution_count": 28,
   "metadata": {},
   "outputs": [
    {
     "data": {
      "text/plain": [
       "34.7747"
      ]
     },
     "execution_count": 28,
     "metadata": {},
     "output_type": "execute_result"
    }
   ],
   "source": [
    "worst_dist = sum(list(tgt_dist_mat.values()))\n",
    "worst_dist"
   ]
  },
  {
   "cell_type": "code",
   "execution_count": null,
   "metadata": {},
   "outputs": [],
   "source": []
  }
 ],
 "metadata": {
  "kernelspec": {
   "display_name": "covoiturage",
   "language": "python",
   "name": "covoiturage"
  },
  "language_info": {
   "codemirror_mode": {
    "name": "ipython",
    "version": 3
   },
   "file_extension": ".py",
   "mimetype": "text/x-python",
   "name": "python",
   "nbconvert_exporter": "python",
   "pygments_lexer": "ipython3",
   "version": "3.8.6"
  }
 },
 "nbformat": 4,
 "nbformat_minor": 4
}
