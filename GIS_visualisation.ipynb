{
 "cells": [
  {
   "cell_type": "code",
   "execution_count": 1,
   "metadata": {},
   "outputs": [],
   "source": [
    "import time\n",
    "\n",
    "import matplotlib.pyplot as plt\n",
    "\n",
    "import osmnx as ox\n",
    "import folium\n",
    "\n",
    "from geopy.geocoders import Nominatim\n",
    "\n",
    "from utilities.utils import *\n",
    "from optimiser import *\n",
    "from addressPoint import AddressPoint"
   ]
  },
  {
   "cell_type": "code",
   "execution_count": 2,
   "metadata": {},
   "outputs": [],
   "source": [
    "address_file_path = './data/addresses.csv'"
   ]
  },
  {
   "cell_type": "code",
   "execution_count": 3,
   "metadata": {},
   "outputs": [],
   "source": [
    "employee_data = get_employee_data(address_file_path)\n",
    "employee_addresses = [emp[2] for emp in employee_data]"
   ]
  },
  {
   "cell_type": "code",
   "execution_count": 4,
   "metadata": {},
   "outputs": [],
   "source": [
    "target_address = '9 Boulevard Decouz, 74000 Annecy France'"
   ]
  },
  {
   "cell_type": "code",
   "execution_count": 5,
   "metadata": {},
   "outputs": [],
   "source": [
    "max_pass = 4"
   ]
  },
  {
   "cell_type": "markdown",
   "metadata": {},
   "source": [
    "Speed Test"
   ]
  },
  {
   "cell_type": "code",
   "execution_count": 13,
   "metadata": {},
   "outputs": [
    {
     "name": "stdout",
     "output_type": "stream",
     "text": [
      "time: 54.591328620910645\n"
     ]
    }
   ],
   "source": [
    "t_start = time.time()\n",
    "emp_points = {emp_address: AddressPoint(emp_address) for emp_address in employee_addresses}\n",
    "t_end = time.time()\n",
    "full_time = t_end - t_start\n",
    "print('time: {}'.format(full_time))"
   ]
  },
  {
   "cell_type": "code",
   "execution_count": 8,
   "metadata": {},
   "outputs": [],
   "source": [
    "import asyncio\n",
    "from geopy.adapters import AioHTTPAdapter\n",
    "from geopy.geocoders import Nominatim"
   ]
  },
  {
   "cell_type": "code",
   "execution_count": 9,
   "metadata": {},
   "outputs": [],
   "source": [
    "async def get_latitude_longitude_async(str_address):\n",
    "    print('retrieving for {}'.format(str_address))\n",
    "    async with Nominatim(user_agent=\"covoiturage\", adapter_factory=AioHTTPAdapter) as geolocator:\n",
    "        location = await geolocator.geocode(str_address, timeout=500)\n",
    "        if location is None:\n",
    "            res = None, None\n",
    "        else:\n",
    "            res = location.latitude, location.longitude\n",
    "            print('address: {} retrieved'.format(str_address))\n",
    "    return res"
   ]
  },
  {
   "cell_type": "code",
   "execution_count": 10,
   "metadata": {},
   "outputs": [],
   "source": [
    "async def main(emp_add):\n",
    "    ret = await asyncio.gather(*[get_latitude_longitude_async(add) for add in emp_add])\n",
    "    return ret"
   ]
  },
  {
   "cell_type": "markdown",
   "metadata": {},
   "source": [
    "t_start = time.time()\n",
    "res = await main(test)\n",
    "t_end = time.time()\n",
    "full_time = t_end - t_start\n",
    "print('time: {}'.format(full_time))"
   ]
  },
  {
   "cell_type": "code",
   "execution_count": null,
   "metadata": {},
   "outputs": [],
   "source": [
    "res"
   ]
  },
  {
   "cell_type": "code",
   "execution_count": null,
   "metadata": {},
   "outputs": [],
   "source": []
  },
  {
   "cell_type": "code",
   "execution_count": null,
   "metadata": {},
   "outputs": [],
   "source": []
  },
  {
   "cell_type": "code",
   "execution_count": null,
   "metadata": {},
   "outputs": [],
   "source": [
    "t_start = time.time()\n",
    "emp_points_2 = {}\n",
    "geolocator = Nominatim(user_agent=\"covoiturage\")\n",
    "\n",
    "for add in employee_addresses:\n",
    "    print(add)\n",
    "    location = geolocator.geocode(add)\n",
    "    if location is None:\n",
    "        res = None, None\n",
    "    else:\n",
    "        res = location.latitude, location.longitude\n",
    "    emp_points_2[add] = (add, res[0], res[1])\n",
    "t_end = time.time()\n",
    "full_time = t_end - t_start\n",
    "print('time: {}'.format(full_time))"
   ]
  },
  {
   "cell_type": "code",
   "execution_count": null,
   "metadata": {},
   "outputs": [],
   "source": [
    "add_list = list(emp_points.keys())\n",
    "pA = add_list[0]\n",
    "pB = add_list[25]\n",
    "t_start = time.time()\n",
    "dAB = get_route_distance(emp_points[pA], emp_points[pB])\n",
    "t_end = time.time()\n",
    "full_time = t_end - t_start\n",
    "print('time: {}'.format(full_time))"
   ]
  },
  {
   "cell_type": "markdown",
   "metadata": {},
   "source": [
    "# result only"
   ]
  },
  {
   "cell_type": "code",
   "execution_count": null,
   "metadata": {},
   "outputs": [],
   "source": [
    "res = global_optimise(employee_addresses, target_address, max_pass)\n",
    "res"
   ]
  },
  {
   "cell_type": "markdown",
   "metadata": {},
   "source": [
    "# step by step"
   ]
  },
  {
   "cell_type": "code",
   "execution_count": null,
   "metadata": {},
   "outputs": [],
   "source": [
    "emp_points = {emp_address: AddressPoint(emp_address) for emp_address in employee_addresses}"
   ]
  },
  {
   "cell_type": "code",
   "execution_count": 15,
   "metadata": {},
   "outputs": [],
   "source": [
    "tgt_point = AddressPoint(target_address)"
   ]
  },
  {
   "cell_type": "code",
   "execution_count": 16,
   "metadata": {},
   "outputs": [],
   "source": [
    "emp_coords = {k: cartesian_coordinates(p, tgt_point, tgt_point.latitude)\n",
    "                  for k, p in emp_points.items()}"
   ]
  },
  {
   "cell_type": "code",
   "execution_count": null,
   "metadata": {},
   "outputs": [],
   "source": [
    "tgt_dist_mat = get_employees_distance_to_target(emp_points, tgt_point)"
   ]
  },
  {
   "cell_type": "code",
   "execution_count": null,
   "metadata": {},
   "outputs": [],
   "source": [
    "emp_dist_mat = get_employees_distance_matrix(emp_points)"
   ]
  },
  {
   "cell_type": "code",
   "execution_count": null,
   "metadata": {},
   "outputs": [],
   "source": [
    "init_groups = group_employees(emp_coords, max_pass)"
   ]
  },
  {
   "cell_type": "code",
   "execution_count": null,
   "metadata": {},
   "outputs": [],
   "source": [
    "fin_groups = []\n",
    "for g in init_groups:\n",
    "    fin_groups += optimise_group(g, emp_dist_mat, tgt_dist_mat, emp_coords)\n",
    "fin_groups"
   ]
  },
  {
   "cell_type": "code",
   "execution_count": null,
   "metadata": {},
   "outputs": [],
   "source": [
    "plt.scatter([0], [0])\n",
    "for g in fin_groups:\n",
    "    plt.scatter([emp_coords[add][0] for add in g], [emp_coords[add][1] for add in g])"
   ]
  },
  {
   "cell_type": "code",
   "execution_count": null,
   "metadata": {},
   "outputs": [],
   "source": [
    "worst_dist = sum(list(tgt_dist_mat.values()))\n",
    "worst_dist"
   ]
  },
  {
   "cell_type": "code",
   "execution_count": null,
   "metadata": {},
   "outputs": [],
   "source": [
    "path_lengths = [path_distance(path, emp_dist_mat, tgt_dist_mat) for path in fin_groups]\n",
    "path_lengths"
   ]
  },
  {
   "cell_type": "code",
   "execution_count": null,
   "metadata": {},
   "outputs": [],
   "source": [
    "opt_dist = sum(path_lengths)\n",
    "opt_dist"
   ]
  },
  {
   "cell_type": "code",
   "execution_count": null,
   "metadata": {},
   "outputs": [],
   "source": []
  },
  {
   "cell_type": "code",
   "execution_count": null,
   "metadata": {},
   "outputs": [],
   "source": []
  },
  {
   "cell_type": "code",
   "execution_count": null,
   "metadata": {},
   "outputs": [],
   "source": [
    "full_map = folium.Map(location=[tgt_point.latitude, tgt_point.longitude], zoom_start=11)\n",
    "folium.Marker([tgt_point.latitude, tgt_point.longitude]).add_to(full_map)\n",
    "for cur_point in emp_points.values():\n",
    "    folium.Circle(radius = 10, location=[cur_point.latitude, cur_point.longitude], color='red', fill=True).add_to(full_map)\n",
    "full_map"
   ]
  },
  {
   "cell_type": "code",
   "execution_count": null,
   "metadata": {},
   "outputs": [],
   "source": []
  },
  {
   "cell_type": "code",
   "execution_count": null,
   "metadata": {},
   "outputs": [],
   "source": []
  },
  {
   "cell_type": "code",
   "execution_count": null,
   "metadata": {},
   "outputs": [],
   "source": []
  },
  {
   "cell_type": "code",
   "execution_count": null,
   "metadata": {},
   "outputs": [],
   "source": []
  }
 ],
 "metadata": {
  "kernelspec": {
   "display_name": "covoiturage",
   "language": "python",
   "name": "covoiturage"
  },
  "language_info": {
   "codemirror_mode": {
    "name": "ipython",
    "version": 3
   },
   "file_extension": ".py",
   "mimetype": "text/x-python",
   "name": "python",
   "nbconvert_exporter": "python",
   "pygments_lexer": "ipython3",
   "version": "3.8.6"
  }
 },
 "nbformat": 4,
 "nbformat_minor": 4
}
