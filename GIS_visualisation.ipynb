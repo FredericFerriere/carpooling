{
 "cells": [
  {
   "cell_type": "code",
   "execution_count": 1,
   "metadata": {},
   "outputs": [],
   "source": [
    "import matplotlib.pyplot as plt\n",
    "\n",
    "import osmnx as ox\n",
    "import folium\n",
    "\n",
    "from geopy.geocoders import Nominatim\n",
    "\n",
    "from utilities.utils import *\n",
    "from optimiser import *"
   ]
  },
  {
   "cell_type": "code",
   "execution_count": 2,
   "metadata": {},
   "outputs": [],
   "source": [
    "address_file_path = './data/addresses.csv'"
   ]
  },
  {
   "cell_type": "code",
   "execution_count": 3,
   "metadata": {},
   "outputs": [],
   "source": [
    "employee_data = get_employee_data(address_file_path)\n",
    "employee_addresses = [emp[2] for emp in employee_data]"
   ]
  },
  {
   "cell_type": "code",
   "execution_count": null,
   "metadata": {},
   "outputs": [],
   "source": [
    "geolocator = Nominatim(user_agent=\"covoiturage\")"
   ]
  },
  {
   "cell_type": "code",
   "execution_count": 4,
   "metadata": {},
   "outputs": [],
   "source": [
    "target_address = '9 Boulevard Decouz, 74000 Annecy France'"
   ]
  },
  {
   "cell_type": "code",
   "execution_count": null,
   "metadata": {},
   "outputs": [],
   "source": [
    "target_location = geolocator.geocode(target_address)"
   ]
  },
  {
   "cell_type": "code",
   "execution_count": null,
   "metadata": {},
   "outputs": [],
   "source": [
    "employee_locations = [geolocator.geocode(el) for el in employee_addresses]"
   ]
  },
  {
   "cell_type": "code",
   "execution_count": null,
   "metadata": {},
   "outputs": [],
   "source": [
    "full_map = folium.Map(location=[target_location.latitude, target_location.longitude], zoom_start=11)\n",
    "folium.Marker([target_location.latitude, target_location.longitude]).add_to(full_map)\n",
    "for cur_loc in employee_locations:\n",
    "    folium.Circle(radius = 10, location=[cur_loc.latitude, cur_loc.longitude], color='red', fill=True).add_to(full_map)\n",
    "full_map"
   ]
  },
  {
   "cell_type": "code",
   "execution_count": null,
   "metadata": {},
   "outputs": [],
   "source": [
    "dist_matrix = get_employees_distance_matrix(employee_locations)\n",
    "dist_target = get_employees_distance_to_target(employee_locations, target_location)"
   ]
  },
  {
   "cell_type": "code",
   "execution_count": null,
   "metadata": {},
   "outputs": [],
   "source": [
    "worst_distance = sum(dist_target)\n",
    "print('worst distance: {:.2f}'.format(worst_distance))"
   ]
  },
  {
   "cell_type": "markdown",
   "metadata": {},
   "source": [
    "# We'll also store point coordinates based on 2d projection from GPS coordinates\n",
    "# required for clustering"
   ]
  },
  {
   "cell_type": "code",
   "execution_count": null,
   "metadata": {},
   "outputs": [],
   "source": [
    "target_coord = cartesian_coordinates(target_location, target_location, target_location.latitude)\n",
    "employee_coords = [cartesian_coordinates(loc, target_location, target_location.latitude) for loc in employee_locations]"
   ]
  },
  {
   "cell_type": "code",
   "execution_count": null,
   "metadata": {},
   "outputs": [],
   "source": [
    "plt.scatter(target_coord[0], target_coord[1], color='blue')\n",
    "plt.scatter([emp_coord[0] for emp_coord in employee_coords], [emp_coord[1] for emp_coord in employee_coords], color='red')"
   ]
  },
  {
   "cell_type": "code",
   "execution_count": null,
   "metadata": {},
   "outputs": [],
   "source": []
  },
  {
   "cell_type": "code",
   "execution_count": null,
   "metadata": {},
   "outputs": [],
   "source": []
  },
  {
   "cell_type": "code",
   "execution_count": 8,
   "metadata": {},
   "outputs": [],
   "source": [
    "max_pass = 4"
   ]
  },
  {
   "cell_type": "markdown",
   "metadata": {},
   "source": [
    "# result only"
   ]
  },
  {
   "cell_type": "code",
   "execution_count": 9,
   "metadata": {},
   "outputs": [
    {
     "data": {
      "text/plain": [
       "[['64 route de Menthon 74290 Veyrier du lac',\n",
       "  '353 route des provinces 74370 villaz'],\n",
       " ['294 route de vernod 74330 Poisy',\n",
       "  '36 rue du muraillon 74600 Seynod',\n",
       "  '15 rue pasteur 74960 Cran gevrier',\n",
       "  '5 route de Montava 74370 Argonay']]"
      ]
     },
     "execution_count": 9,
     "metadata": {},
     "output_type": "execute_result"
    }
   ],
   "source": [
    "res = global_optimise(employee_addresses, target_address, max_pass)\n",
    "res"
   ]
  },
  {
   "cell_type": "markdown",
   "metadata": {},
   "source": [
    "# step by step"
   ]
  },
  {
   "cell_type": "code",
   "execution_count": 10,
   "metadata": {},
   "outputs": [
    {
     "data": {
      "text/plain": [
       "[['64 route de Menthon 74290 Veyrier du lac',\n",
       "  '353 route des provinces 74370 villaz'],\n",
       " ['294 route de vernod 74330 Poisy',\n",
       "  '36 rue du muraillon 74600 Seynod',\n",
       "  '15 rue pasteur 74960 Cran gevrier',\n",
       "  '5 route de Montava 74370 Argonay']]"
      ]
     },
     "execution_count": 10,
     "metadata": {},
     "output_type": "execute_result"
    }
   ],
   "source": [
    "emp_address_dict = {emp_address: AddressPoint(emp_address) for emp_address in employee_addresses}\n",
    "tgt_address_point = AddressPoint(target_address)\n",
    "emp_coords = {k: cartesian_coordinates(p, tgt_address_point, tgt_address_point.latitude)\n",
    "                  for k, p in emp_address_dict.items()}\n",
    "groups = group_employees(emp_coords, max_pass)\n",
    "res = []\n",
    "for g in groups:\n",
    "    opt_g = optimise_group(g)\n",
    "    for sub_g in opt_g:\n",
    "        res.append(sub_g)\n",
    "res"
   ]
  },
  {
   "cell_type": "code",
   "execution_count": 12,
   "metadata": {},
   "outputs": [
    {
     "data": {
      "image/png": "[encoded data removed]",
      "text/plain": [
       "<Figure size 432x288 with 1 Axes>"
      ]
     },
     "metadata": {
      "needs_background": "light"
     },
     "output_type": "display_data"
    }
   ],
   "source": [
    "plt.scatter([0], [0])\n",
    "for g in res:\n",
    "    plt.scatter([emp_coords[add][0] for add in g], [emp_coords[add][1] for add in g])"
   ]
  },
  {
   "cell_type": "code",
   "execution_count": null,
   "metadata": {},
   "outputs": [],
   "source": []
  }
 ],
 "metadata": {
  "kernelspec": {
   "display_name": "covoiturage",
   "language": "python",
   "name": "covoiturage"
  },
  "language_info": {
   "codemirror_mode": {
    "name": "ipython",
    "version": 3
   },
   "file_extension": ".py",
   "mimetype": "text/x-python",
   "name": "python",
   "nbconvert_exporter": "python",
   "pygments_lexer": "ipython3",
   "version": "3.8.6"
  }
 },
 "nbformat": 4,
 "nbformat_minor": 4
}
